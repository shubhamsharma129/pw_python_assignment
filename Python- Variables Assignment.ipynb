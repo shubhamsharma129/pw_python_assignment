{
 "cells": [
  {
   "cell_type": "markdown",
   "id": "7451d257",
   "metadata": {},
   "source": [
    "  # Assignment\n",
    "  \n",
    "  \n",
    "Q1. Write all the conventions being followed while declaring a variable.\n",
    "•\tvariable name must start with a letter or the underscore character.\n",
    "•\tA variable name can only contain alpha-numeric characters and underscores (A-z, 0-9, and_)\n",
    "•\tIt is case sensitive\n"
   ]
  },
  {
   "cell_type": "code",
   "execution_count": null,
   "id": "4e151a7d",
   "metadata": {},
   "outputs": [],
   "source": [
    "Q2. What will happen if we declare a restricted keyword as a variable?\n",
    "\n",
    "Ans.2) we will get a syntax error\n"
   ]
  },
  {
   "cell_type": "code",
   "execution_count": null,
   "id": "596ffb14",
   "metadata": {},
   "outputs": [],
   "source": [
    "Q3. Can we actually declare a string as a variable name?\n",
    "Ans.3) In Python, it is not possible to directly declare a string as a variable name.\n",
    "Variable names in Python must adhere to certain rules and restrictions. According to the Python naming conventions.\n"
   ]
  },
  {
   "cell_type": "code",
   "execution_count": 2,
   "id": "53e7352e",
   "metadata": {},
   "outputs": [
    {
     "ename": "SyntaxError",
     "evalue": "invalid syntax (655531115.py, line 6)",
     "output_type": "error",
     "traceback": [
      "\u001b[1;36m  Cell \u001b[1;32mIn[2], line 6\u001b[1;36m\u001b[0m\n\u001b[1;33m    ```python\u001b[0m\n\u001b[1;37m    ^\u001b[0m\n\u001b[1;31mSyntaxError\u001b[0m\u001b[1;31m:\u001b[0m invalid syntax\n"
     ]
    }
   ],
   "source": [
    "#Q4. Is it possible for us to declare “_” as a variable? If so, then write an example of it.\n",
    "#Ans.4) Yes, it is possible to declare a variable with the name \"_\" (underscore) in Python. In Python,the underscore character is a valid identifier and can be used as a variable name.It is often used as a placeholder or throwaway variable in situations where the actual value of the variable is not needed or relevant. \n",
    "#Here's an example:\n",
    "\n",
    "\n",
    "```python\n",
    "_ = 10  # Assigning a value to the variable \"_\"\n",
    "print(_)  # Output: 10\n",
    "```\n",
    "In this example, the variable \"_\" is assigned the value 10, and we can then use the \"_\" variable to access or manipulate the value as needed.\n",
    "\n",
    "\n"
   ]
  },
  {
   "cell_type": "code",
   "execution_count": 1,
   "id": "de20656f",
   "metadata": {},
   "outputs": [
    {
     "ename": "SyntaxError",
     "evalue": "unmatched ')' (3968612879.py, line 2)",
     "output_type": "error",
     "traceback": [
      "\u001b[1;36m  Cell \u001b[1;32mIn[1], line 2\u001b[1;36m\u001b[0m\n\u001b[1;33m    Ans.5) In Python, variables are dynamic in nature,\u001b[0m\n\u001b[1;37m         ^\u001b[0m\n\u001b[1;31mSyntaxError\u001b[0m\u001b[1;31m:\u001b[0m unmatched ')'\n"
     ]
    }
   ],
   "source": [
    "Q5. Using an example, explain how the variables in python are dynamic in nature.\n",
    "Ans.5) In Python, variables are dynamic in nature,\n",
    "which means they can hold values of different types and their values can be changed during the execution of the program.\n",
    "This flexibility allows for more dynamic and versatile programming. \n",
    "Here's an example to illustrate the dynamic nature of variables in Python:\n",
    "```python\n",
    "# Dynamic variable assignment\n",
    "x = 5  # Assigning an integer value to variable x\n",
    "print(x)  # Output: 5\n",
    "\n",
    "x = \"Hello\"  # Assigning a string value to variable x\n",
    "print(x)  # Output: Hello\n",
    "\n",
    "x = [1, 2, 3]  # Assigning a list value to variable x\n",
    "print(x)  # Output: [1, 2, 3]\n",
    "\n",
    "# Dynamic variable type conversion\n",
    "x = 10\n",
    "print(type(x))  # Output: <class 'int'>\n",
    "\n",
    "x = str(x)  # Converting x to a string\n",
    "print(type(x))  # Output: <class 'str'>\n",
    "\n",
    "# Dynamic variable modification\n",
    "x = 5\n",
    "print(x)  # Output: 5\n",
    "\n",
    "x = x + 3  # Modifying the value of x\n",
    "print(x)  # Output: 8\n",
    "```\n",
    "\n",
    "In this example, we initially assign the value 5 to the variable `x`, and it behaves as an integer. However, we can later assign a string value (\"Hello\") and a list value ([1, 2, 3]) to the same variable `x`. Python allows us to dynamically change the type and value of the variable.\n",
    "\n",
    "Additionally, we can dynamically convert the type of a variable using functions like `str()`. In the example, we convert the variable `x` from an integer to a string using the `str()` function.\n",
    "\n",
    "Furthermore, variables can be modified dynamically by performing operations on their values. In the example, we increment the value of `x` by 3 using the `+` operator.\n",
    "\n",
    "This dynamic nature of variables in Python provides flexibility and makes it easier to work with different data types and modify values as needed throughout the program execution.\n",
    "\n"
   ]
  },
  {
   "cell_type": "code",
   "execution_count": null,
   "id": "d0dffee4",
   "metadata": {},
   "outputs": [],
   "source": []
  }
 ],
 "metadata": {
  "kernelspec": {
   "display_name": "Python 3 (ipykernel)",
   "language": "python",
   "name": "python3"
  },
  "language_info": {
   "codemirror_mode": {
    "name": "ipython",
    "version": 3
   },
   "file_extension": ".py",
   "mimetype": "text/x-python",
   "name": "python",
   "nbconvert_exporter": "python",
   "pygments_lexer": "ipython3",
   "version": "3.10.9"
  }
 },
 "nbformat": 4,
 "nbformat_minor": 5
}
